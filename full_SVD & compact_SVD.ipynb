{
 "cells": [
  {
   "cell_type": "code",
   "execution_count": 1,
   "id": "31daa8a9",
   "metadata": {},
   "outputs": [
    {
     "name": "stdout",
     "output_type": "stream",
     "text": [
      "[[-0.212 -0.285 -0.574 -0.44  -0.33   1.184]\n",
      " [ 1.615  0.367 -0.014  0.63   1.71  -1.327]\n",
      " [ 0.402 -0.191  1.404 -1.969 -0.79  -0.733]\n",
      " [ 0.088 -0.5    0.504  0.607  1.166  0.824]\n",
      " [-3.087  1.164  1.083  0.486 -1.235 -1.859]\n",
      " [ 0.488  0.386 -0.227  0.108  1.72   1.041]]\n"
     ]
    }
   ],
   "source": [
    "#numpy 의 svd 모듈 import\n",
    "import numpy as np\n",
    "from numpy.linalg import svd\n",
    "\n",
    "#4X4 Random 행렬 a 생성\n",
    "np.random.seed(121)\n",
    "a = np.random.randn(6,6)\n",
    "print(np.round(a,3))"
   ]
  },
  {
   "cell_type": "code",
   "execution_count": 3,
   "id": "ff8d207e",
   "metadata": {},
   "outputs": [
    {
     "name": "stdout",
     "output_type": "stream",
     "text": [
      "(6, 6) (6,) (6, 6)\n",
      "U matrix:\n",
      " [[ 0.068 -0.396 -0.289  0.004  0.268 -0.827]\n",
      " [ 0.307  0.678  0.475  0.149  0.075 -0.44 ]\n",
      " [-0.19  -0.406  0.768 -0.446  0.073 -0.068]\n",
      " [ 0.216  0.131 -0.202 -0.639 -0.67  -0.195]\n",
      " [-0.832  0.416 -0.157 -0.246  0.144 -0.168]\n",
      " [ 0.354  0.169 -0.189 -0.557  0.669  0.229]]\n",
      "Sigma Value:\n",
      " [4.719 2.932 2.755 1.58  0.951 0.135]\n",
      "V transpose matrix: \n",
      " [[ 0.671 -0.172 -0.251  0.064  0.539  0.404]\n",
      " [-0.06   0.315  0.043  0.58   0.525 -0.532]\n",
      " [ 0.548 -0.016  0.366 -0.474 -0.024 -0.583]\n",
      " [ 0.311 -0.027 -0.691  0.254 -0.503 -0.326]\n",
      " [-0.088  0.734 -0.406 -0.503  0.182  0.043]\n",
      " [ 0.375  0.576  0.398  0.342 -0.383  0.325]]\n"
     ]
    }
   ],
   "source": [
    "U, Sigma, Vt = svd(a)\n",
    "print(U.shape, Sigma.shape, Vt.shape)\n",
    "print('U matrix:\\n', np.round(U, 3))\n",
    "print('Sigma Value:\\n',np.round(Sigma, 3))\n",
    "print('V transpose matrix: \\n',np.round(Vt, 3))"
   ]
  },
  {
   "cell_type": "code",
   "execution_count": 6,
   "id": "8139ca05",
   "metadata": {},
   "outputs": [
    {
     "name": "stdout",
     "output_type": "stream",
     "text": [
      "[[-0.212 -0.285 -0.574 -0.44  -0.33   1.184]\n",
      " [ 1.615  0.367 -0.014  0.63   1.71  -1.327]\n",
      " [ 0.402 -0.191  1.404 -1.969 -0.79  -0.733]\n",
      " [ 0.088 -0.5    0.504  0.607  1.166  0.824]\n",
      " [-3.087  1.164  1.083  0.486 -1.235 -1.859]\n",
      " [ 0.488  0.386 -0.227  0.108  1.72   1.041]]\n"
     ]
    }
   ],
   "source": [
    "# Sigma를 다시 0을 포함한 대칭행렬로 변환\n",
    "Sigma_mat = np.diag(Sigma)\n",
    "# print(Sigma_mat)\n",
    "a_ = np.dot(np.dot(U, Sigma_mat), Vt)\n",
    "print(np.round(a_,3))\n",
    "## Full SVD"
   ]
  },
  {
   "cell_type": "code",
   "execution_count": 7,
   "id": "65ff4e23",
   "metadata": {},
   "outputs": [
    {
     "name": "stdout",
     "output_type": "stream",
     "text": [
      "[[-0.212 -0.285 -0.574 -0.44  -0.33   1.184]\n",
      " [ 1.615  0.367 -0.014  0.63   1.71  -1.327]\n",
      " [ 1.403  0.082 -0.588  0.189  1.38  -0.143]\n",
      " [-0.212 -0.285 -0.574 -0.44  -0.33   1.184]\n",
      " [-3.087  1.164  1.083  0.486 -1.235 -1.859]\n",
      " [ 0.488  0.386 -0.227  0.108  1.72   1.041]]\n"
     ]
    }
   ],
   "source": [
    "a[2] = a[0] + a[1]\n",
    "a[3] = a[0]\n",
    "print(np.round(a,3))\n",
    "## multi column linear regression\n",
    "## multi column linearity 멀티 콜 리니알러티(?)"
   ]
  },
  {
   "cell_type": "code",
   "execution_count": 8,
   "id": "204efa5c",
   "metadata": {},
   "outputs": [
    {
     "name": "stdout",
     "output_type": "stream",
     "text": [
      "(6, 6) (6,) (6, 6)\n",
      "Sigma Value:\n",
      " [4.926 3.342 1.575 0.529 0.    0.   ]\n"
     ]
    }
   ],
   "source": [
    "#다시 SVD를 수행하여 Sigma 값 확인\n",
    "U, Sigma, Vt = svd(a)\n",
    "print(U.shape, Sigma.shape, Vt.shape)\n",
    "print('Sigma Value:\\n', np.round(Sigma,3))"
   ]
  },
  {
   "cell_type": "code",
   "execution_count": 10,
   "id": "c399ca7f",
   "metadata": {},
   "outputs": [
    {
     "name": "stdout",
     "output_type": "stream",
     "text": [
      "(6, 2) (2, 2) (2, 6)\n",
      "[[-0.061 -0.424 -0.356 -0.437 -0.462  1.156]\n",
      " [ 1.576  0.397  0.075  0.647  1.778 -1.257]\n",
      " [ 1.514 -0.026 -0.281  0.21   1.315 -0.101]\n",
      " [-0.061 -0.424 -0.356 -0.437 -0.462  1.156]\n",
      " [-2.758  0.876  1.227  0.452 -1.598 -2.061]\n",
      " [ 1.182 -0.204 -0.378 -0.021  0.85   0.418]]\n"
     ]
    }
   ],
   "source": [
    "#U 행렬의 경우는 Sigma와 내적을 수행하므로 Sigma의 앞 2행에 대응되는 앞 2열만 추출\n",
    "U_ = U[:, :2]\n",
    "Sigma_ = np.diag(Sigma[:2])\n",
    "#V 전치 행렬의 경우는 앞 2행만 추출\n",
    "Vt_ = Vt[:2]\n",
    "print(U_.shape ,Sigma_.shape, Vt_.shape)\n",
    "#U, Sigma, Vt의 내적을 수행하며, 다시 원본행렬 복원\n",
    "a_ = np.dot(np.dot(U_,Sigma_), Vt_)\n",
    "print(np.round(a_,3))\n",
    "## Compact SVD"
   ]
  }
 ],
 "metadata": {
  "kernelspec": {
   "display_name": "Python 3",
   "language": "python",
   "name": "python3"
  },
  "language_info": {
   "codemirror_mode": {
    "name": "ipython",
    "version": 3
   },
   "file_extension": ".py",
   "mimetype": "text/x-python",
   "name": "python",
   "nbconvert_exporter": "python",
   "pygments_lexer": "ipython3",
   "version": "3.8.9"
  }
 },
 "nbformat": 4,
 "nbformat_minor": 5
}
